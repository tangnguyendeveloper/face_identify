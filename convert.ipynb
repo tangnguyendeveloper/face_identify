{
 "cells": [
  {
   "cell_type": "markdown",
   "metadata": {},
   "source": [
    "# Convert to TFlite"
   ]
  },
  {
   "cell_type": "code",
   "execution_count": 6,
   "metadata": {},
   "outputs": [],
   "source": [
    "from keras_facenet import FaceNet\n",
    "import tensorflow as tf"
   ]
  },
  {
   "cell_type": "code",
   "execution_count": 7,
   "metadata": {},
   "outputs": [
    {
     "data": {
      "text/plain": [
       "'\\nidentify = tf.keras.models.load_model(\"ann_findnal.h5\")\\nidentify_converter = tf.lite.TFLiteConverter.from_keras_model(identify)\\nidentify_converter.optimizations = [tf.lite.Optimize.DEFAULT]\\ntflite_identify_optimize = identify_converter.convert()\\n\\npnet_converter = tf.lite.TFLiteConverter.from_keras_model(pnet)\\npnet_converter.optimizations = [tf.lite.Optimize.DEFAULT]\\ntflite_pnet_optimize = pnet_converter.convert()\\n\\nrnet_converter = tf.lite.TFLiteConverter.from_keras_model(rnet)\\nrnet_converter.optimizations = [tf.lite.Optimize.DEFAULT]\\ntflite_rnet_optimize = rnet_converter.convert()\\n\\nonet_converter = tf.lite.TFLiteConverter.from_keras_model(onet)\\nonet_converter.optimizations = [tf.lite.Optimize.DEFAULT]\\ntflite_onet_optimize = onet_converter.convert()\\n\\nembedding_model_converter = tf.lite.TFLiteConverter.from_keras_model(embedding_model)\\nembedding_model_converter.optimizations = [tf.lite.Optimize.DEFAULT]\\ntflite_embedding_optimize = embedding_model_converter.convert()\\n\\n\\nwith open(\\'pnet_20180402-114759.tflite\\', \\'wb\\') as f:\\n  f.write(tflite_pnet_optimize)\\nwith open(\\'rnet_20180402-114759.tflite\\', \\'wb\\') as f:\\n  f.write(tflite_rnet_optimize)\\nwith open(\\'onet_20180402-114759.tflite\\', \\'wb\\') as f:\\n  f.write(tflite_onet_optimize)\\nwith open(\\'embedding_20180402-114759.tflite\\', \\'wb\\') as f:\\n  f.write(tflite_embedding_optimize)\\nwith open(\\'NhiThuy_identify.tflite\\', \\'wb\\') as f:\\n  f.write(tflite_identify_optimize)\\n'"
      ]
     },
     "execution_count": 7,
     "metadata": {},
     "output_type": "execute_result"
    }
   ],
   "source": [
    "facenet = FaceNet()\n",
    "pnet = facenet.mtcnn()._pnet\n",
    "rnet = facenet.mtcnn()._rnet\n",
    "onet = facenet.mtcnn()._onet\n",
    "embedding_model = facenet.model\n",
    "\n",
    "identify = tf.keras.models.load_model(\"ann_findnal.h5\")\n",
    "identify_converter = tf.lite.TFLiteConverter.from_keras_model(identify)\n",
    "identify_converter.optimizations = [tf.lite.Optimize.DEFAULT]\n",
    "tflite_identify_optimize = identify_converter.convert()\n",
    "\n",
    "pnet_converter = tf.lite.TFLiteConverter.from_keras_model(pnet)\n",
    "pnet_converter.optimizations = [tf.lite.Optimize.DEFAULT]\n",
    "tflite_pnet_optimize = pnet_converter.convert()\n",
    "\n",
    "rnet_converter = tf.lite.TFLiteConverter.from_keras_model(rnet)\n",
    "rnet_converter.optimizations = [tf.lite.Optimize.DEFAULT]\n",
    "tflite_rnet_optimize = rnet_converter.convert()\n",
    "\n",
    "onet_converter = tf.lite.TFLiteConverter.from_keras_model(onet)\n",
    "onet_converter.optimizations = [tf.lite.Optimize.DEFAULT]\n",
    "tflite_onet_optimize = onet_converter.convert()\n",
    "\n",
    "embedding_model_converter = tf.lite.TFLiteConverter.from_keras_model(embedding_model)\n",
    "embedding_model_converter.optimizations = [tf.lite.Optimize.DEFAULT]\n",
    "tflite_embedding_optimize = embedding_model_converter.convert()\n",
    "\n",
    "\n",
    "with open('pnet_20180402-114759.tflite', 'wb') as f:\n",
    "  f.write(tflite_pnet_optimize)\n",
    "with open('rnet_20180402-114759.tflite', 'wb') as f:\n",
    "  f.write(tflite_rnet_optimize)\n",
    "with open('onet_20180402-114759.tflite', 'wb') as f:\n",
    "  f.write(tflite_onet_optimize)\n",
    "with open('embedding_20180402-114759.tflite', 'wb') as f:\n",
    "  f.write(tflite_embedding_optimize)\n",
    "with open('NhiThuy_identify.tflite', 'wb') as f:\n",
    "  f.write(tflite_identify_optimize)\n"
   ]
  },
  {
   "cell_type": "code",
   "execution_count": 1,
   "metadata": {},
   "outputs": [],
   "source": [
    "import tensorflow.lite as tflite"
   ]
  },
  {
   "cell_type": "code",
   "execution_count": 31,
   "metadata": {},
   "outputs": [],
   "source": [
    "model = tflite.Interpreter(model_path=\"pnet_20180402-114759.tflite\")"
   ]
  },
  {
   "cell_type": "code",
   "execution_count": 32,
   "metadata": {},
   "outputs": [
    {
     "data": {
      "text/plain": [
       "[23, 22]"
      ]
     },
     "execution_count": 32,
     "metadata": {},
     "output_type": "execute_result"
    }
   ],
   "source": [
    "out_details = model.get_output_details()\n",
    "\n",
    "out_indexs = [None] * len(out_details)\n",
    "\n",
    "\n",
    "for _layer in out_details:\n",
    "    index = int(_layer[\"name\"].split(\":\")[-1])\n",
    "    out_indexs[index] = _layer[\"index\"]\n",
    "\n",
    "out_indexs\n",
    "#[model.get_tensor(index) for index in out_indexs]\n"
   ]
  }
 ],
 "metadata": {
  "kernelspec": {
   "display_name": "Python 3",
   "language": "python",
   "name": "python3"
  },
  "language_info": {
   "codemirror_mode": {
    "name": "ipython",
    "version": 3
   },
   "file_extension": ".py",
   "mimetype": "text/x-python",
   "name": "python",
   "nbconvert_exporter": "python",
   "pygments_lexer": "ipython3",
   "version": "3.11.6"
  },
  "orig_nbformat": 4
 },
 "nbformat": 4,
 "nbformat_minor": 2
}
